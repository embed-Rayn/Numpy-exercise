{
 "cells": [
  {
   "cell_type": "markdown",
   "metadata": {},
   "source": [
    "# Operations 2"
   ]
  },
  {
   "cell_type": "markdown",
   "metadata": {},
   "source": [
    "- Basic Operations\n",
    "- Broadcasting\n",
    "- Matrix Multiplication\n",
    "- Inner Product\n",
    "- Square, Square Root\n",
    "- Sum (parameter: axis)\n",
    "- Product (parameter: axis)\n",
    "- Cumulative Sum (parameter: axis)\n",
    "- Cumulative Product (parameter: axis)\n",
    "- amin, amax (parameter: axis)\n",
    "    - np.random.randint(min_val, max_val, size = (m, n))\n",
    "- fmin, fmax\n",
    "- Mean (parameter: axis)\n",
    "- Weighted Average (parameter: weights)\n",
    "- Variance, Standard Deviation"
   ]
  },
  {
   "cell_type": "code",
   "execution_count": 1,
   "metadata": {},
   "outputs": [],
   "source": [
    "import numpy as np"
   ]
  },
  {
   "cell_type": "markdown",
   "metadata": {},
   "source": [
    "### Basic Operations"
   ]
  },
  {
   "cell_type": "code",
   "execution_count": 2,
   "metadata": {},
   "outputs": [
    {
     "name": "stdout",
     "output_type": "stream",
     "text": [
      "[[1 2 3]\n",
      " [4 5 6]]\n",
      "[[2 2 2]\n",
      " [3 3 3]]\n"
     ]
    }
   ],
   "source": [
    "a = np.arange(1, 7).reshape(2, 3)\n",
    "b = np.vstack((np.full(3, 2), np.full(3, 3)))\n",
    "print(a)\n",
    "print(b)"
   ]
  },
  {
   "cell_type": "code",
   "execution_count": 3,
   "metadata": {},
   "outputs": [
    {
     "name": "stdout",
     "output_type": "stream",
     "text": [
      "[[3 4 5]\n",
      " [7 8 9]]\n"
     ]
    }
   ],
   "source": [
    "print(a + b)"
   ]
  },
  {
   "cell_type": "code",
   "execution_count": 4,
   "metadata": {},
   "outputs": [
    {
     "name": "stdout",
     "output_type": "stream",
     "text": [
      "[[-1  0  1]\n",
      " [ 1  2  3]]\n"
     ]
    }
   ],
   "source": [
    "print(a - b)"
   ]
  },
  {
   "cell_type": "code",
   "execution_count": 5,
   "metadata": {},
   "outputs": [
    {
     "name": "stdout",
     "output_type": "stream",
     "text": [
      "[[ 2  4  6]\n",
      " [12 15 18]]\n"
     ]
    }
   ],
   "source": [
    "print(a * b)"
   ]
  },
  {
   "cell_type": "code",
   "execution_count": 6,
   "metadata": {},
   "outputs": [
    {
     "name": "stdout",
     "output_type": "stream",
     "text": [
      "[[0.5        1.         1.5       ]\n",
      " [1.33333333 1.66666667 2.        ]]\n"
     ]
    }
   ],
   "source": [
    "print(a / b)"
   ]
  },
  {
   "cell_type": "code",
   "execution_count": 7,
   "metadata": {},
   "outputs": [
    {
     "name": "stdout",
     "output_type": "stream",
     "text": [
      "[[  1   4   9]\n",
      " [ 64 125 216]]\n"
     ]
    }
   ],
   "source": [
    "print(a ** b)"
   ]
  },
  {
   "cell_type": "code",
   "execution_count": 8,
   "metadata": {},
   "outputs": [
    {
     "name": "stdout",
     "output_type": "stream",
     "text": [
      "[[0 1 1]\n",
      " [1 1 2]]\n"
     ]
    }
   ],
   "source": [
    "print(a //b)"
   ]
  },
  {
   "cell_type": "code",
   "execution_count": 9,
   "metadata": {},
   "outputs": [
    {
     "name": "stdout",
     "output_type": "stream",
     "text": [
      "[[1 0 1]\n",
      " [1 2 0]]\n"
     ]
    }
   ],
   "source": [
    "print(a % b)"
   ]
  },
  {
   "cell_type": "markdown",
   "metadata": {},
   "source": [
    "### Broadcasting"
   ]
  },
  {
   "cell_type": "code",
   "execution_count": 10,
   "metadata": {},
   "outputs": [
    {
     "name": "stdout",
     "output_type": "stream",
     "text": [
      "[[1 2 3]\n",
      " [4 5 6]]\n"
     ]
    }
   ],
   "source": [
    "a = np.arange(1, 7).reshape(2, 3)\n",
    "print(a)"
   ]
  },
  {
   "cell_type": "code",
   "execution_count": 11,
   "metadata": {},
   "outputs": [
    {
     "name": "stdout",
     "output_type": "stream",
     "text": [
      "[[3 4 5]\n",
      " [6 7 8]]\n"
     ]
    }
   ],
   "source": [
    "b = a + 2\n",
    "print(b)"
   ]
  },
  {
   "cell_type": "code",
   "execution_count": 12,
   "metadata": {},
   "outputs": [
    {
     "name": "stdout",
     "output_type": "stream",
     "text": [
      "[[3 4 5]\n",
      " [6 7 8]]\n"
     ]
    }
   ],
   "source": [
    "b = a + np.array([[2],[2]])\n",
    "print(b)"
   ]
  },
  {
   "cell_type": "code",
   "execution_count": 13,
   "metadata": {},
   "outputs": [
    {
     "name": "stdout",
     "output_type": "stream",
     "text": [
      "[[3 4 5]\n",
      " [6 7 8]]\n"
     ]
    }
   ],
   "source": [
    "b = a + np.array([[2, 2, 2]])\n",
    "print(b)"
   ]
  },
  {
   "cell_type": "markdown",
   "metadata": {},
   "source": [
    "### Matrix Multiplication"
   ]
  },
  {
   "cell_type": "markdown",
   "metadata": {},
   "source": [
    "##### A @ B == np.matmul(A, B) == np.dot(A, B) == A.dot(B)"
   ]
  },
  {
   "cell_type": "code",
   "execution_count": 14,
   "metadata": {},
   "outputs": [],
   "source": [
    "A = np.arange(1, 5).reshape(2, 2)\n",
    "B = np.arange(5, 9).reshape(2, 2)"
   ]
  },
  {
   "cell_type": "code",
   "execution_count": 15,
   "metadata": {},
   "outputs": [
    {
     "name": "stdout",
     "output_type": "stream",
     "text": [
      "[[1 2]\n",
      " [3 4]]\n",
      "[[5 6]\n",
      " [7 8]]\n"
     ]
    }
   ],
   "source": [
    "print(A)\n",
    "print(B)"
   ]
  },
  {
   "cell_type": "code",
   "execution_count": 16,
   "metadata": {},
   "outputs": [
    {
     "name": "stdout",
     "output_type": "stream",
     "text": [
      "[[19 22]\n",
      " [43 50]]\n"
     ]
    }
   ],
   "source": [
    "print(A @ B)"
   ]
  },
  {
   "cell_type": "code",
   "execution_count": 17,
   "metadata": {},
   "outputs": [
    {
     "name": "stdout",
     "output_type": "stream",
     "text": [
      "[[19 22]\n",
      " [43 50]]\n"
     ]
    }
   ],
   "source": [
    "print(np.matmul(A, B))"
   ]
  },
  {
   "cell_type": "code",
   "execution_count": 18,
   "metadata": {},
   "outputs": [
    {
     "name": "stdout",
     "output_type": "stream",
     "text": [
      "[[19 22]\n",
      " [43 50]]\n"
     ]
    }
   ],
   "source": [
    "print(np.dot(A, B))"
   ]
  },
  {
   "cell_type": "code",
   "execution_count": 19,
   "metadata": {},
   "outputs": [
    {
     "name": "stdout",
     "output_type": "stream",
     "text": [
      "[[19 22]\n",
      " [43 50]]\n"
     ]
    }
   ],
   "source": [
    "print(A.dot(B))"
   ]
  },
  {
   "cell_type": "markdown",
   "metadata": {},
   "source": [
    "##### Inner Product"
   ]
  },
  {
   "cell_type": "code",
   "execution_count": 20,
   "metadata": {},
   "outputs": [],
   "source": [
    "a = np.arange(1, 4)\n",
    "b = np.arange(4, 7)"
   ]
  },
  {
   "cell_type": "code",
   "execution_count": 21,
   "metadata": {},
   "outputs": [
    {
     "name": "stdout",
     "output_type": "stream",
     "text": [
      "32\n",
      "32\n",
      "32\n",
      "32\n"
     ]
    }
   ],
   "source": [
    "print(a @ b)\n",
    "print(np.matmul(a, b))\n",
    "print(np.dot(a, b))\n",
    "print(a.dot(b))"
   ]
  },
  {
   "cell_type": "markdown",
   "metadata": {},
   "source": [
    "### Square, Square Root"
   ]
  },
  {
   "cell_type": "code",
   "execution_count": 22,
   "metadata": {},
   "outputs": [
    {
     "name": "stdout",
     "output_type": "stream",
     "text": [
      "[1 2 3 4]\n"
     ]
    }
   ],
   "source": [
    "x = np.array([1, 2, 3, 4])\n",
    "print(x)"
   ]
  },
  {
   "cell_type": "code",
   "execution_count": 23,
   "metadata": {},
   "outputs": [
    {
     "name": "stdout",
     "output_type": "stream",
     "text": [
      "[ 1  4  9 16]\n",
      "[1.         1.41421356 1.73205081 2.        ]\n"
     ]
    }
   ],
   "source": [
    "print(np.square(x))\n",
    "print(np.sqrt(x))"
   ]
  },
  {
   "cell_type": "markdown",
   "metadata": {},
   "source": [
    "### Sum"
   ]
  },
  {
   "cell_type": "markdown",
   "metadata": {},
   "source": [
    "##### a.sum() == np.sum(a)"
   ]
  },
  {
   "cell_type": "code",
   "execution_count": 24,
   "metadata": {},
   "outputs": [
    {
     "name": "stdout",
     "output_type": "stream",
     "text": [
      "10\n",
      "10\n"
     ]
    }
   ],
   "source": [
    "a = np.arange(1, 5)\n",
    "print(a.sum())\n",
    "print(np.sum(a))"
   ]
  },
  {
   "cell_type": "code",
   "execution_count": 25,
   "metadata": {},
   "outputs": [],
   "source": [
    "a = np.arange(1, 25).reshape(2, 3, 4)"
   ]
  },
  {
   "cell_type": "code",
   "execution_count": 26,
   "metadata": {},
   "outputs": [
    {
     "name": "stdout",
     "output_type": "stream",
     "text": [
      "[[[ 1  2  3  4]\n",
      "  [ 5  6  7  8]\n",
      "  [ 9 10 11 12]]\n",
      "\n",
      " [[13 14 15 16]\n",
      "  [17 18 19 20]\n",
      "  [21 22 23 24]]]\n"
     ]
    }
   ],
   "source": [
    "print(a)"
   ]
  },
  {
   "cell_type": "code",
   "execution_count": 27,
   "metadata": {},
   "outputs": [
    {
     "name": "stdout",
     "output_type": "stream",
     "text": [
      "300 ()\n"
     ]
    }
   ],
   "source": [
    "b = a.sum()\n",
    "print(b, b.shape)"
   ]
  },
  {
   "cell_type": "code",
   "execution_count": 28,
   "metadata": {},
   "outputs": [
    {
     "name": "stdout",
     "output_type": "stream",
     "text": [
      "[[14 16 18 20]\n",
      " [22 24 26 28]\n",
      " [30 32 34 36]] (3, 4)\n"
     ]
    }
   ],
   "source": [
    "b = a.sum(axis = 0)\n",
    "print(b, b.shape)"
   ]
  },
  {
   "cell_type": "code",
   "execution_count": 29,
   "metadata": {},
   "outputs": [
    {
     "name": "stdout",
     "output_type": "stream",
     "text": [
      "[[15 18 21 24]\n",
      " [51 54 57 60]] (2, 4)\n"
     ]
    }
   ],
   "source": [
    "b = a.sum(axis = 1)\n",
    "print(b, b.shape)"
   ]
  },
  {
   "cell_type": "code",
   "execution_count": 30,
   "metadata": {},
   "outputs": [
    {
     "name": "stdout",
     "output_type": "stream",
     "text": [
      "[[10 26 42]\n",
      " [58 74 90]] (2, 3)\n"
     ]
    }
   ],
   "source": [
    "b = a.sum(axis = 2)\n",
    "print(b, b.shape)"
   ]
  },
  {
   "cell_type": "markdown",
   "metadata": {},
   "source": [
    "### Product"
   ]
  },
  {
   "cell_type": "markdown",
   "metadata": {},
   "source": [
    "##### a.prod() == np.prod(a) == np.product(a)"
   ]
  },
  {
   "cell_type": "code",
   "execution_count": 31,
   "metadata": {},
   "outputs": [
    {
     "name": "stdout",
     "output_type": "stream",
     "text": [
      "[1 2 3 4]\n"
     ]
    }
   ],
   "source": [
    "a = np.array([1, 2, 3, 4])\n",
    "print(a)"
   ]
  },
  {
   "cell_type": "code",
   "execution_count": 32,
   "metadata": {},
   "outputs": [
    {
     "name": "stdout",
     "output_type": "stream",
     "text": [
      "24 24 24\n"
     ]
    }
   ],
   "source": [
    "print(a.prod(), np.prod(a), np.product(a))"
   ]
  },
  {
   "cell_type": "code",
   "execution_count": 33,
   "metadata": {},
   "outputs": [],
   "source": [
    "a = np.arange(1, 25).reshape(2, 3, 4) / 4"
   ]
  },
  {
   "cell_type": "code",
   "execution_count": 34,
   "metadata": {},
   "outputs": [
    {
     "name": "stdout",
     "output_type": "stream",
     "text": [
      "2204275523.827588\n"
     ]
    }
   ],
   "source": [
    "print(a.prod())"
   ]
  },
  {
   "cell_type": "code",
   "execution_count": 35,
   "metadata": {},
   "outputs": [
    {
     "name": "stdout",
     "output_type": "stream",
     "text": [
      "[[ 0.8125  1.75    2.8125  4.    ]\n",
      " [ 5.3125  6.75    8.3125 10.    ]\n",
      " [11.8125 13.75   15.8125 18.    ]]\n"
     ]
    }
   ],
   "source": [
    "print(a.prod(axis = 0))"
   ]
  },
  {
   "cell_type": "code",
   "execution_count": 36,
   "metadata": {},
   "outputs": [
    {
     "name": "stdout",
     "output_type": "stream",
     "text": [
      "[[  0.703125   1.875      3.609375   6.      ]\n",
      " [ 72.515625  86.625    102.421875 120.      ]]\n"
     ]
    }
   ],
   "source": [
    "print(a.prod(axis = 1))"
   ]
  },
  {
   "cell_type": "code",
   "execution_count": 37,
   "metadata": {},
   "outputs": [
    {
     "name": "stdout",
     "output_type": "stream",
     "text": [
      "[[9.3750000e-02 6.5625000e+00 4.6406250e+01]\n",
      " [1.7062500e+02 4.5421875e+02 9.9618750e+02]]\n"
     ]
    }
   ],
   "source": [
    "print(a.prod(axis = 2))"
   ]
  },
  {
   "cell_type": "markdown",
   "metadata": {},
   "source": [
    "### Cumulative Sum"
   ]
  },
  {
   "cell_type": "markdown",
   "metadata": {},
   "source": [
    "##### a.cumsum() == np.cumsum(a)"
   ]
  },
  {
   "cell_type": "code",
   "execution_count": 38,
   "metadata": {},
   "outputs": [
    {
     "name": "stdout",
     "output_type": "stream",
     "text": [
      "[ 0  1  3  6 10 15 21 28 36 45 55] [ 0  1  3  6 10 15 21 28 36 45 55]\n"
     ]
    }
   ],
   "source": [
    "a = np.arange(11)\n",
    "print(a.cumsum(), np.cumsum(a))"
   ]
  },
  {
   "cell_type": "code",
   "execution_count": 39,
   "metadata": {},
   "outputs": [
    {
     "name": "stdout",
     "output_type": "stream",
     "text": [
      "[  1   3   6  10  15  21  28  36  45  55  66  78  91 105 120 136 153 171\n",
      " 190 210 231 253 276 300]\n"
     ]
    }
   ],
   "source": [
    "a = np.arange(1, 25).reshape(2, 3, 4)\n",
    "b = a.cumsum()\n",
    "print(b)"
   ]
  },
  {
   "cell_type": "code",
   "execution_count": 40,
   "metadata": {},
   "outputs": [
    {
     "name": "stdout",
     "output_type": "stream",
     "text": [
      "[[[ 1  2  3  4]\n",
      "  [ 5  6  7  8]\n",
      "  [ 9 10 11 12]]\n",
      "\n",
      " [[14 16 18 20]\n",
      "  [22 24 26 28]\n",
      "  [30 32 34 36]]] (2, 3, 4)\n"
     ]
    }
   ],
   "source": [
    "b = a.cumsum(axis = 0)\n",
    "print(b, b.shape)"
   ]
  },
  {
   "cell_type": "code",
   "execution_count": 41,
   "metadata": {},
   "outputs": [
    {
     "name": "stdout",
     "output_type": "stream",
     "text": [
      "[[[ 1  2  3  4]\n",
      "  [ 6  8 10 12]\n",
      "  [15 18 21 24]]\n",
      "\n",
      " [[13 14 15 16]\n",
      "  [30 32 34 36]\n",
      "  [51 54 57 60]]] (2, 3, 4)\n"
     ]
    }
   ],
   "source": [
    "b = a.cumsum(axis = 1)\n",
    "print(b, b.shape)"
   ]
  },
  {
   "cell_type": "code",
   "execution_count": 42,
   "metadata": {},
   "outputs": [
    {
     "name": "stdout",
     "output_type": "stream",
     "text": [
      "[[[ 1  3  6 10]\n",
      "  [ 5 11 18 26]\n",
      "  [ 9 19 30 42]]\n",
      "\n",
      " [[13 27 42 58]\n",
      "  [17 35 54 74]\n",
      "  [21 43 66 90]]] (2, 3, 4)\n"
     ]
    }
   ],
   "source": [
    "b = a.cumsum(axis = 2)\n",
    "print(b, b.shape)"
   ]
  },
  {
   "cell_type": "markdown",
   "metadata": {},
   "source": [
    "### Cumulative Product"
   ]
  },
  {
   "cell_type": "markdown",
   "metadata": {},
   "source": [
    "##### a.cumprod() == np.cumprod(a)"
   ]
  },
  {
   "cell_type": "code",
   "execution_count": 43,
   "metadata": {},
   "outputs": [],
   "source": [
    "a = np.arange(1, 7)"
   ]
  },
  {
   "cell_type": "code",
   "execution_count": 44,
   "metadata": {},
   "outputs": [
    {
     "name": "stdout",
     "output_type": "stream",
     "text": [
      "[  1   2   6  24 120 720] [  1   2   6  24 120 720]\n"
     ]
    }
   ],
   "source": [
    "print(a.cumprod(), np.cumprod(a))"
   ]
  },
  {
   "cell_type": "code",
   "execution_count": 45,
   "metadata": {},
   "outputs": [
    {
     "name": "stdout",
     "output_type": "stream",
     "text": [
      "[[[0.25 0.5  0.75 1.  ]\n",
      "  [1.25 1.5  1.75 2.  ]\n",
      "  [2.25 2.5  2.75 3.  ]]\n",
      "\n",
      " [[3.25 3.5  3.75 4.  ]\n",
      "  [4.25 4.5  4.75 5.  ]\n",
      "  [5.25 5.5  5.75 6.  ]]]\n"
     ]
    }
   ],
   "source": [
    "a = np.arange(1, 25).reshape(2, 3, 4) / 4\n",
    "print(a)"
   ]
  },
  {
   "cell_type": "code",
   "execution_count": 46,
   "metadata": {},
   "outputs": [
    {
     "name": "stdout",
     "output_type": "stream",
     "text": [
      "[2.50000000e-01 1.25000000e-01 9.37500000e-02 9.37500000e-02\n",
      " 1.17187500e-01 1.75781250e-01 3.07617188e-01 6.15234375e-01\n",
      " 1.38427734e+00 3.46069336e+00 9.51690674e+00 2.85507202e+01\n",
      " 9.27898407e+01 3.24764442e+02 1.21786666e+03 4.87146664e+03\n",
      " 2.07037332e+04 9.31667994e+04 4.42542297e+05 2.21271149e+06\n",
      " 1.16167353e+07 6.38920442e+07 3.67379254e+08 2.20427552e+09] (24,)\n"
     ]
    }
   ],
   "source": [
    "b = a.cumprod()\n",
    "print(b, b.shape)"
   ]
  },
  {
   "cell_type": "code",
   "execution_count": 47,
   "metadata": {},
   "outputs": [
    {
     "name": "stdout",
     "output_type": "stream",
     "text": [
      "[[[ 0.25    0.5     0.75    1.    ]\n",
      "  [ 1.25    1.5     1.75    2.    ]\n",
      "  [ 2.25    2.5     2.75    3.    ]]\n",
      "\n",
      " [[ 0.8125  1.75    2.8125  4.    ]\n",
      "  [ 5.3125  6.75    8.3125 10.    ]\n",
      "  [11.8125 13.75   15.8125 18.    ]]] (2, 3, 4)\n"
     ]
    }
   ],
   "source": [
    "b = a.cumprod(axis = 0)\n",
    "print(b, b.shape)"
   ]
  },
  {
   "cell_type": "code",
   "execution_count": 48,
   "metadata": {},
   "outputs": [
    {
     "name": "stdout",
     "output_type": "stream",
     "text": [
      "[[[  0.25       0.5        0.75       1.      ]\n",
      "  [  0.3125     0.75       1.3125     2.      ]\n",
      "  [  0.703125   1.875      3.609375   6.      ]]\n",
      "\n",
      " [[  3.25       3.5        3.75       4.      ]\n",
      "  [ 13.8125    15.75      17.8125    20.      ]\n",
      "  [ 72.515625  86.625    102.421875 120.      ]]] (2, 3, 4)\n"
     ]
    }
   ],
   "source": [
    "b = a.cumprod(axis = 1)\n",
    "print(b, b.shape)"
   ]
  },
  {
   "cell_type": "code",
   "execution_count": 49,
   "metadata": {},
   "outputs": [
    {
     "name": "stdout",
     "output_type": "stream",
     "text": [
      "[[[2.5000000e-01 1.2500000e-01 9.3750000e-02 9.3750000e-02]\n",
      "  [1.2500000e+00 1.8750000e+00 3.2812500e+00 6.5625000e+00]\n",
      "  [2.2500000e+00 5.6250000e+00 1.5468750e+01 4.6406250e+01]]\n",
      "\n",
      " [[3.2500000e+00 1.1375000e+01 4.2656250e+01 1.7062500e+02]\n",
      "  [4.2500000e+00 1.9125000e+01 9.0843750e+01 4.5421875e+02]\n",
      "  [5.2500000e+00 2.8875000e+01 1.6603125e+02 9.9618750e+02]]] (2, 3, 4)\n"
     ]
    }
   ],
   "source": [
    "b = a.cumprod(axis = 2)\n",
    "print(b, b.shape)"
   ]
  },
  {
   "cell_type": "markdown",
   "metadata": {},
   "source": [
    "### amin, amax"
   ]
  },
  {
   "cell_type": "markdown",
   "metadata": {},
   "source": [
    "##### a.max() == np.max(a) == np.amax(a)\n",
    "##### a.min() == np.min(a) == np.amin(a)"
   ]
  },
  {
   "cell_type": "code",
   "execution_count": 50,
   "metadata": {},
   "outputs": [
    {
     "name": "stdout",
     "output_type": "stream",
     "text": [
      "4 4 4\n"
     ]
    }
   ],
   "source": [
    "a = np.array([3, 4, 1, 2])\n",
    "print(a.max(), np.max(a), np.amax(a))"
   ]
  },
  {
   "cell_type": "code",
   "execution_count": 51,
   "metadata": {},
   "outputs": [
    {
     "name": "stdout",
     "output_type": "stream",
     "text": [
      "1 1 1\n"
     ]
    }
   ],
   "source": [
    "print(a.min(), np.min(a), np.amin(a))"
   ]
  },
  {
   "cell_type": "code",
   "execution_count": 52,
   "metadata": {},
   "outputs": [
    {
     "name": "stdout",
     "output_type": "stream",
     "text": [
      "[[-15  -7   1 -12]\n",
      " [ 13  13  15 -16]\n",
      " [ -3 -13  11  10]\n",
      " [ 17   7  13  -3]]\n"
     ]
    }
   ],
   "source": [
    "a = np.random.randint(-20, 20, size = (4, 4))\n",
    "print(a)"
   ]
  },
  {
   "cell_type": "code",
   "execution_count": 53,
   "metadata": {},
   "outputs": [
    {
     "name": "stdout",
     "output_type": "stream",
     "text": [
      "max:  17 \n",
      "min:  -16\n"
     ]
    }
   ],
   "source": [
    "print(\"max: \", a.max(), \"\\nmin: \", a.min())"
   ]
  },
  {
   "cell_type": "code",
   "execution_count": 54,
   "metadata": {},
   "outputs": [
    {
     "name": "stdout",
     "output_type": "stream",
     "text": [
      "max:  [17 13 15 10] \n",
      "min:  [-15 -13   1 -16]\n"
     ]
    }
   ],
   "source": [
    "print(\"max: \", a.max(axis = 0), \"\\nmin: \", a.min(axis = 0))"
   ]
  },
  {
   "cell_type": "code",
   "execution_count": 55,
   "metadata": {},
   "outputs": [
    {
     "name": "stdout",
     "output_type": "stream",
     "text": [
      "max:  [ 1 15 11 17] \n",
      "min:  [-15 -16 -13  -3]\n"
     ]
    }
   ],
   "source": [
    "print(\"max: \", a.max(axis = 1), \"\\nmin: \", a.min(axis = 1))"
   ]
  },
  {
   "cell_type": "markdown",
   "metadata": {},
   "source": [
    "### fmin, fmax"
   ]
  },
  {
   "cell_type": "markdown",
   "metadata": {},
   "source": [
    "##### np.fmin(a, b) == np.minimum(a, b)"
   ]
  },
  {
   "cell_type": "code",
   "execution_count": 56,
   "metadata": {},
   "outputs": [
    {
     "name": "stdout",
     "output_type": "stream",
     "text": [
      "[[ -8 -10  -9]\n",
      " [ -5  25   5]\n",
      " [  8  11  14]]\n",
      "[[  5  -4 -18]\n",
      " [  1  13 -13]\n",
      " [-16  10  14]]\n"
     ]
    }
   ],
   "source": [
    "a = np.random.randint(-10, 30, size = (3, 3))\n",
    "b = np.random.randint(-25, 15, size = (3, 3))\n",
    "print(a)\n",
    "print(b)"
   ]
  },
  {
   "cell_type": "code",
   "execution_count": 57,
   "metadata": {},
   "outputs": [
    {
     "name": "stdout",
     "output_type": "stream",
     "text": [
      "[[ -8 -10 -18]\n",
      " [ -5  13 -13]\n",
      " [-16  10  14]]\n",
      "[[ -8 -10 -18]\n",
      " [ -5  13 -13]\n",
      " [-16  10  14]]\n"
     ]
    }
   ],
   "source": [
    "print(np.fmin(a, b))\n",
    "print(np.minimum(a, b))"
   ]
  },
  {
   "cell_type": "code",
   "execution_count": 58,
   "metadata": {},
   "outputs": [
    {
     "name": "stdout",
     "output_type": "stream",
     "text": [
      "[[ 5 -4 -9]\n",
      " [ 1 25  5]\n",
      " [ 8 11 14]]\n",
      "[[ 5 -4 -9]\n",
      " [ 1 25  5]\n",
      " [ 8 11 14]]\n"
     ]
    }
   ],
   "source": [
    "print(np.fmax(a, b))\n",
    "print(np.maximum(a, b))"
   ]
  },
  {
   "cell_type": "markdown",
   "metadata": {},
   "source": [
    "### Mean"
   ]
  },
  {
   "cell_type": "markdown",
   "metadata": {},
   "source": [
    "##### a.mean() == np.mean(a) == np.average(a) have axis"
   ]
  },
  {
   "cell_type": "code",
   "execution_count": 59,
   "metadata": {},
   "outputs": [
    {
     "name": "stdout",
     "output_type": "stream",
     "text": [
      "2.5 2.5 2.5\n"
     ]
    }
   ],
   "source": [
    "a = np.arange(1, 5)\n",
    "print(a.mean(), np.mean(a), np.average(a))"
   ]
  },
  {
   "cell_type": "markdown",
   "metadata": {},
   "source": [
    "### Weighted Average"
   ]
  },
  {
   "cell_type": "markdown",
   "metadata": {},
   "source": [
    "have weights"
   ]
  },
  {
   "cell_type": "code",
   "execution_count": 60,
   "metadata": {},
   "outputs": [],
   "source": [
    "x = np.array([1, 2, 1, 2])\n",
    "w = np.array([3, 3, 2, 1])"
   ]
  },
  {
   "cell_type": "code",
   "execution_count": 61,
   "metadata": {},
   "outputs": [
    {
     "name": "stdout",
     "output_type": "stream",
     "text": [
      "1.4444444444444444\n",
      "1.4444444444444444\n"
     ]
    }
   ],
   "source": [
    "print(np.average(x, weights = w))\n",
    "print((w * x).sum()/w.sum())"
   ]
  },
  {
   "cell_type": "code",
   "execution_count": 62,
   "metadata": {},
   "outputs": [
    {
     "name": "stdout",
     "output_type": "stream",
     "text": [
      "[3 6 2 2]\n"
     ]
    }
   ],
   "source": [
    "print((w * x))"
   ]
  },
  {
   "cell_type": "code",
   "execution_count": 63,
   "metadata": {},
   "outputs": [
    {
     "name": "stdout",
     "output_type": "stream",
     "text": [
      "9\n"
     ]
    }
   ],
   "source": [
    "print(w.sum())"
   ]
  },
  {
   "cell_type": "markdown",
   "metadata": {},
   "source": [
    "### Variance, Standard Deviation"
   ]
  },
  {
   "cell_type": "code",
   "execution_count": 64,
   "metadata": {},
   "outputs": [],
   "source": [
    "x = np.array([1, 2, 3, 4])"
   ]
  },
  {
   "cell_type": "code",
   "execution_count": 65,
   "metadata": {},
   "outputs": [
    {
     "name": "stdout",
     "output_type": "stream",
     "text": [
      "1.25\n",
      "1.25\n"
     ]
    }
   ],
   "source": [
    "print(x.var())\n",
    "print(np.var(x))"
   ]
  },
  {
   "cell_type": "code",
   "execution_count": 66,
   "metadata": {},
   "outputs": [
    {
     "name": "stdout",
     "output_type": "stream",
     "text": [
      "1.118033988749895\n",
      "1.118033988749895\n"
     ]
    }
   ],
   "source": [
    "print(x.std())\n",
    "print(np.std(x))"
   ]
  },
  {
   "cell_type": "code",
   "execution_count": 67,
   "metadata": {},
   "outputs": [
    {
     "name": "stdout",
     "output_type": "stream",
     "text": [
      "var:  1.25\n",
      "std:  1.118033988749895\n"
     ]
    }
   ],
   "source": [
    "print(\"var: \",((x - x.mean())**2).sum() / x.size)\n",
    "print(\"std: \",np.sqrt(((x - x.mean())**2).sum() / x.size))"
   ]
  },
  {
   "cell_type": "raw",
   "metadata": {},
   "source": []
  }
 ],
 "metadata": {
  "kernelspec": {
   "display_name": "Python 3",
   "language": "python",
   "name": "python3"
  },
  "language_info": {
   "codemirror_mode": {
    "name": "ipython",
    "version": 3
   },
   "file_extension": ".py",
   "mimetype": "text/x-python",
   "name": "python",
   "nbconvert_exporter": "python",
   "pygments_lexer": "ipython3",
   "version": "3.7.4"
  }
 },
 "nbformat": 4,
 "nbformat_minor": 4
}
